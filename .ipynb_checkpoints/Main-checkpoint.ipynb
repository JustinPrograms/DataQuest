{
 "cells": [
  {
   "cell_type": "code",
   "execution_count": 1,
   "id": "0703f5ac-8810-4d55-b889-8e082890297f",
   "metadata": {
    "tags": []
   },
   "outputs": [],
   "source": [
    "%load_ext autoreload\n",
    "%autoreload 2\n",
    "import numpy as np\n",
    "import pandas as pd\n",
    "import matplotlib.pyplot as plt\n",
    "import copy\n",
    "import math\n",
    "\n",
    "%matplotlib inline"
   ]
  },
  {
   "cell_type": "code",
   "execution_count": 2,
   "id": "b13c9444-a077-45ec-bc0a-c71bbcac73f8",
   "metadata": {
    "tags": []
   },
   "outputs": [
    {
     "name": "stderr",
     "output_type": "stream",
     "text": [
      "C:\\Users\\justi\\AppData\\Local\\Temp\\ipykernel_8428\\1187759239.py:1: DtypeWarning: Columns (0,2,3,5,6,7,8,9,10,15,16,17) have mixed types. Specify dtype option on import or set low_memory=False.\n",
      "  df = pd.read_csv(\"trainData.csv\")\n"
     ]
    },
    {
     "name": "stdout",
     "output_type": "stream",
     "text": [
      "amount            float64\n",
      "gender            float64\n",
      "latitude          float64\n",
      "longitude         float64\n",
      "cityPop           float64\n",
      "dateOfBirth       float64\n",
      "merchLatitude     float64\n",
      "merchLongitude    float64\n",
      "isFraud           float64\n",
      "dtype: object\n"
     ]
    }
   ],
   "source": [
    "df = pd.read_csv(\"trainData.csv\")\n",
    "df = df.drop_duplicates()\n",
    "df.dropna(inplace=True)\n",
    "df.drop(columns=[\"firstName\", \"lastName\", \"street\", \"unixTime\", \"zip\", \"job\", \"category\", \"transNum\", \"city\", \"state\", \"transDate\", \"creditCardNum\", \"business\"], inplace=True) #maybe drop city??\n",
    "df['dateOfBirth'] = pd.to_datetime(df['dateOfBirth'])\n",
    "\n",
    "df['dateOfBirth'] = df['dateOfBirth'].dt.year.astype(float)\n",
    "\n",
    "gender_map = {'M': 2.0, 'F': 1.0}\n",
    "df['gender'] = df['gender'].map(gender_map)\n",
    "\n",
    "\n",
    "\n",
    "print(df.dtypes)\n",
    "\n",
    "df.to_csv(\"cleanedDataTrain.csv\", index=False)\n",
    "\n",
    "\n",
    "# Write DataFrame to a .txt file\n",
    "with open('cleanedDataTrain.txt', 'w') as f:\n",
    "    for index, row in df.iterrows():\n",
    "        f.write(f\"{row['amount']},{row['gender']},{row['latitude']},{row['longitude']},{row['cityPop']},{row['dateOfBirth']},{row['merchLatitude']},{row['merchLongitude']},{row['isFraud']}\\n\")"
   ]
  },
  {
   "cell_type": "code",
   "execution_count": 3,
   "id": "24d1e541-7fb5-45c8-b96d-53fb475a083f",
   "metadata": {
    "tags": []
   },
   "outputs": [],
   "source": [
    "# Loading data in numpy\n",
    "def load_data(filename):\n",
    "    data = np.loadtxt(filename, delimiter=',', skiprows=1)\n",
    "    X = data[:, :-1]\n",
    "    y = data[:, -1]\n",
    "    return X, y"
   ]
  },
  {
   "cell_type": "code",
   "execution_count": 10,
   "id": "8258d5ce-7c2e-457c-b941-222a4271add3",
   "metadata": {
    "tags": []
   },
   "outputs": [],
   "source": [
    "X_train, y_train = load_data(\"cleanedDataTrain.txt\")"
   ]
  },
  {
   "cell_type": "code",
   "execution_count": 5,
   "id": "4e037c18-b4d8-4fab-ad42-10bb16e8d89e",
   "metadata": {
    "tags": []
   },
   "outputs": [],
   "source": [
    "def sigmoid(z):\n",
    "    \n",
    "    if isinstance(z, int) or isinstance(z, float):\n",
    "        return 1 / (1 + np.exp(-z))\n",
    "    \n",
    "    return 1 / (1 + np.exp(-z))"
   ]
  },
  {
   "cell_type": "code",
   "execution_count": 6,
   "id": "288ab55e-a0cf-4fb3-a716-241d57f0db9c",
   "metadata": {
    "tags": []
   },
   "outputs": [],
   "source": [
    "def compute_cost(X, y, w, b, *argv):\n",
    "    m, n = X.shape\n",
    "\n",
    "    total_cost = 0\n",
    "\n",
    "    for i in range(m):\n",
    "        zwb = np.dot(w, X[i]) + b\n",
    "        fwb = sigmoid(zwb)\n",
    "        \n",
    "        # Clip the values of fwb to avoid log(0) or log(1) issues\n",
    "        fwb = np.clip(fwb, 1e-15, 1 - 1e-15)\n",
    "\n",
    "        loss = (-y[i] * np.log(fwb)) - ((1 - y[i]) * np.log(1 - fwb)) \n",
    "        total_cost += loss\n",
    "    \n",
    "    total_cost = total_cost / m\n",
    "    \n",
    "    return total_cost\n"
   ]
  },
  {
   "cell_type": "code",
   "execution_count": 7,
   "id": "7d1c137c-527f-4060-b31b-5bcf039a8ff8",
   "metadata": {
    "tags": []
   },
   "outputs": [],
   "source": [
    "def compute_gradient(X, y, w, b, *argv):\n",
    "    m, n = X.shape\n",
    "    dj_dw = np.zeros(w.shape)\n",
    "    dj_db = 0.\n",
    "    \n",
    "    for i in range(m):\n",
    "        z_wb = np.dot(X[i], w) + b\n",
    "        f_wb = sigmoid(z_wb)\n",
    "        \n",
    "        dj_db += f_wb - y[i] \n",
    "    \n",
    "        dj_dw += (f_wb - y[i]) * X[i]\n",
    "        \n",
    "    dj_dw /= m\n",
    "    dj_db /= m\n",
    "        \n",
    "    return dj_db, dj_dw"
   ]
  },
  {
   "cell_type": "code",
   "execution_count": 8,
   "id": "87eb0f5b-a2f7-4920-ba07-e3c8ded97825",
   "metadata": {
    "tags": []
   },
   "outputs": [],
   "source": [
    "def gradient_descent(X, y, w_in, b_in, cost_function, gradient_function, alpha, num_iters, lambda_): \n",
    "    print(\"hi\")\n",
    "    m, n = X.shape\n",
    "    \n",
    "    # An array to store cost J and w's at each iteration primarily for graphing later\n",
    "    J_history = []\n",
    "    w_history = []\n",
    "    \n",
    "    for i in range(num_iters):\n",
    "\n",
    "        # Calculate the gradient and update the parameters\n",
    "        dj_db, dj_dw = gradient_function(X, y, w_in, b_in, lambda_)   \n",
    "\n",
    "        # Update Parameters using w, b, alpha and gradient\n",
    "        w_in = w_in - alpha * dj_dw               \n",
    "        b_in = b_in - alpha * dj_db              \n",
    "       \n",
    "        # Save cost J at each iteration\n",
    "        if i<100000:      # prevent resource exhaustion \n",
    "            cost =  cost_function(X, y, w_in, b_in, lambda_)\n",
    "            J_history.append(cost)\n",
    "\n",
    "        # Print cost every at intervals 10 times or as many iterations if < 10\n",
    "        if i% math.ceil(num_iters/10) == 0 or i == (num_iters-1):\n",
    "            w_history.append(w_in)\n",
    "            print(\"testtt:\" + J_history)\n",
    "            print(f\"Iteration {i:4}: Cost {float(J_history[-1]):8.2f}   \")\n",
    "        \n",
    "    return w_in, b_in, J_history, w_histor"
   ]
  },
  {
   "cell_type": "code",
   "execution_count": 9,
   "id": "66a46313-aad5-4e5d-b235-1aa5e17aa994",
   "metadata": {
    "tags": []
   },
   "outputs": [],
   "source": [
    "def predict(X, w, b):\n",
    "    m, n = X.shape\n",
    "    \n",
    "    p = np.zeros(m)\n",
    "    for i in range(m):\n",
    "        zwb = np.dot(w, X[i]) + b\n",
    "        fwb = sigmoid(z_wb)\n",
    "        p[i] = f_wb >= 0.5\n",
    "    return p"
   ]
  },
  {
   "cell_type": "code",
   "execution_count": 11,
   "id": "011112a4-bd86-49f7-85b9-2e5997d063a3",
   "metadata": {
    "tags": []
   },
   "outputs": [
    {
     "name": "stdout",
     "output_type": "stream",
     "text": [
      "hero0\n",
      "hi\n"
     ]
    },
    {
     "name": "stderr",
     "output_type": "stream",
     "text": [
      "C:\\Users\\justi\\AppData\\Local\\Temp\\ipykernel_8428\\3196251242.py:2: RuntimeWarning: overflow encountered in exp\n",
      "  return 1 / (1 + np.exp(-z))\n"
     ]
    },
    {
     "ename": "TypeError",
     "evalue": "can only concatenate str (not \"list\") to str",
     "output_type": "error",
     "traceback": [
      "\u001b[1;31m---------------------------------------------------------------------------\u001b[0m",
      "\u001b[1;31mTypeError\u001b[0m                                 Traceback (most recent call last)",
      "Cell \u001b[1;32mIn[11], line 8\u001b[0m\n\u001b[0;32m      6\u001b[0m alpha \u001b[38;5;241m=\u001b[39m \u001b[38;5;241m0.001\u001b[39m\n\u001b[0;32m      7\u001b[0m \u001b[38;5;28mprint\u001b[39m(\u001b[38;5;124m\"\u001b[39m\u001b[38;5;124mhero0\u001b[39m\u001b[38;5;124m\"\u001b[39m)\n\u001b[1;32m----> 8\u001b[0m w, b, J_history \u001b[38;5;241m=\u001b[39m gradient_descent(X_train, y_train, init_w, init_b, \n\u001b[0;32m      9\u001b[0m                                    compute_cost, compute_gradient, alpha, iterations, \u001b[38;5;241m0\u001b[39m)\n\u001b[0;32m     10\u001b[0m \u001b[38;5;28mprint\u001b[39m(\u001b[38;5;124m\"\u001b[39m\u001b[38;5;124mhere1\u001b[39m\u001b[38;5;124m\"\u001b[39m)\n\u001b[0;32m     11\u001b[0m p \u001b[38;5;241m=\u001b[39m predict(X_train, w, b)\n",
      "Cell \u001b[1;32mIn[8], line 26\u001b[0m, in \u001b[0;36mgradient_descent\u001b[1;34m(X, y, w_in, b_in, cost_function, gradient_function, alpha, num_iters, lambda_)\u001b[0m\n\u001b[0;32m     24\u001b[0m     \u001b[38;5;28;01mif\u001b[39;00m i\u001b[38;5;241m%\u001b[39m math\u001b[38;5;241m.\u001b[39mceil(num_iters\u001b[38;5;241m/\u001b[39m\u001b[38;5;241m10\u001b[39m) \u001b[38;5;241m==\u001b[39m \u001b[38;5;241m0\u001b[39m \u001b[38;5;129;01mor\u001b[39;00m i \u001b[38;5;241m==\u001b[39m (num_iters\u001b[38;5;241m-\u001b[39m\u001b[38;5;241m1\u001b[39m):\n\u001b[0;32m     25\u001b[0m         w_history\u001b[38;5;241m.\u001b[39mappend(w_in)\n\u001b[1;32m---> 26\u001b[0m         \u001b[38;5;28mprint\u001b[39m(\u001b[38;5;124m\"\u001b[39m\u001b[38;5;124mtesttt:\u001b[39m\u001b[38;5;124m\"\u001b[39m \u001b[38;5;241m+\u001b[39m J_history)\n\u001b[0;32m     27\u001b[0m         \u001b[38;5;28mprint\u001b[39m(\u001b[38;5;124mf\u001b[39m\u001b[38;5;124m\"\u001b[39m\u001b[38;5;124mIteration \u001b[39m\u001b[38;5;132;01m{\u001b[39;00mi\u001b[38;5;132;01m:\u001b[39;00m\u001b[38;5;124m4\u001b[39m\u001b[38;5;132;01m}\u001b[39;00m\u001b[38;5;124m: Cost \u001b[39m\u001b[38;5;132;01m{\u001b[39;00m\u001b[38;5;28mfloat\u001b[39m(J_history[\u001b[38;5;241m-\u001b[39m\u001b[38;5;241m1\u001b[39m])\u001b[38;5;132;01m:\u001b[39;00m\u001b[38;5;124m8.2f\u001b[39m\u001b[38;5;132;01m}\u001b[39;00m\u001b[38;5;124m   \u001b[39m\u001b[38;5;124m\"\u001b[39m)\n\u001b[0;32m     29\u001b[0m \u001b[38;5;28;01mreturn\u001b[39;00m w_in, b_in, J_history, w_histor\n",
      "\u001b[1;31mTypeError\u001b[0m: can only concatenate str (not \"list\") to str"
     ]
    }
   ],
   "source": [
    "np.random.seed()\n",
    "init_w = 0.01 * (np.random.rand(8) - 0.5)\n",
    "init_b = -8\n",
    "\n",
    "iterations = 1000\n",
    "alpha = 0.001\n",
    "print(\"hero0\")\n",
    "w, b, J_history = gradient_descent(X_train, y_train, init_w, init_b, \n",
    "                                   compute_cost, compute_gradient, alpha, iterations, 0)\n",
    "print(\"here1\")\n",
    "p = predict(X_train, w, b)\n",
    "print(\"here2\")\n",
    "print(f\"Train Accuracy: {np.mean(p == y_train) * 100}\")\n",
    "print(\"here3\")"
   ]
  },
  {
   "cell_type": "code",
   "execution_count": null,
   "id": "456b7975-230c-495a-8206-a036368bc313",
   "metadata": {},
   "outputs": [],
   "source": []
  }
 ],
 "metadata": {
  "kernelspec": {
   "display_name": "Python 3 (ipykernel)",
   "language": "python",
   "name": "python3"
  },
  "language_info": {
   "codemirror_mode": {
    "name": "ipython",
    "version": 3
   },
   "file_extension": ".py",
   "mimetype": "text/x-python",
   "name": "python",
   "nbconvert_exporter": "python",
   "pygments_lexer": "ipython3",
   "version": "3.11.4"
  }
 },
 "nbformat": 4,
 "nbformat_minor": 5
}
