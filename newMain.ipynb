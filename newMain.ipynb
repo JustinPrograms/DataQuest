{
 "cells": [
  {
   "cell_type": "code",
   "execution_count": 30,
   "id": "0703f5ac-8810-4d55-b889-8e082890297f",
   "metadata": {
    "tags": [],
    "ExecuteTime": {
     "end_time": "2024-04-07T06:03:45.614890100Z",
     "start_time": "2024-04-07T06:03:45.506102100Z"
    }
   },
   "outputs": [
    {
     "name": "stdout",
     "output_type": "stream",
     "text": [
      "The autoreload extension is already loaded. To reload it, use:\n",
      "  %reload_ext autoreload\n"
     ]
    }
   ],
   "source": [
    "# Importing libs and enabling auto reload on notebooks.\n",
    "%load_ext autoreload\n",
    "%autoreload 2\n",
    "import numpy as np\n",
    "import pandas as pd\n",
    "import matplotlib.pyplot as plt\n",
    "import math\n",
    "from scipy.special import expit\n",
    "from datetime import datetime\n",
    "from sklearn.model_selection import GridSearchCV\n",
    "from sklearn.base import BaseEstimator\n",
    "\n",
    "%matplotlib inline\n"
   ]
  },
  {
   "cell_type": "code",
   "execution_count": 31,
   "outputs": [],
   "source": [
    "def haversine_distance(row):\n",
    "    # Calculate the Haversine distance between two points in kilometers (using latitude and longitude)\n",
    "    lon1, lat1, lon2, lat2 = map(math.radians,\n",
    "                                 [row['latitude'], row['longitude'], row['merchLatitude'], row['merchLongitude']])\n",
    "\n",
    "    dlon = lon2 - lon1\n",
    "    dlat = lat2 - lat1\n",
    "    a = math.sin(dlat / 2) ** 2 + math.cos(lat1) * math.cos(lat2) * math.sin(dlon / 2) ** 2\n",
    "    c = 2 * math.atan2(math.sqrt(a), math.sqrt(1 - a))\n",
    "    r = 6371  # Radius of Earth in kilometers\n",
    "    distance = r * c\n",
    "    return distance"
   ],
   "metadata": {
    "collapsed": false,
    "ExecuteTime": {
     "end_time": "2024-04-07T06:03:45.668860200Z",
     "start_time": "2024-04-07T06:03:45.592207Z"
    }
   },
   "id": "f7fa285db0ae63c4"
  },
  {
   "cell_type": "code",
   "execution_count": 32,
   "id": "b13c9444-a077-45ec-bc0a-c71bbcac73f8",
   "metadata": {
    "tags": [],
    "ExecuteTime": {
     "end_time": "2024-04-07T06:03:59.235456700Z",
     "start_time": "2024-04-07T06:03:45.673447Z"
    }
   },
   "outputs": [
    {
     "name": "stderr",
     "output_type": "stream",
     "text": [
      "C:\\Users\\justi\\AppData\\Local\\Temp\\ipykernel_25224\\3967632704.py:2: DtypeWarning: Columns (0,2,3,5,6,7,8,9,10,15,16,17) have mixed types. Specify dtype option on import or set low_memory=False.\n",
      "  df = pd.read_csv(\"trainData.csv\")\n"
     ]
    }
   ],
   "source": [
    "# Reading data training set provided\n",
    "df = pd.read_csv(\"trainData.csv\")\n",
    "df.dropna(inplace=True)\n",
    "df.drop(\n",
    "    columns=[\"firstName\", \"lastName\", \"street\", \"zip\", \"job\", \"cityPop\", \"transNum\", \"city\", \"state\", \"creditCardNum\",\n",
    "             \"business\"], inplace=True)\n",
    "df['dateOfBirth'] = pd.to_datetime(df['dateOfBirth'])\n",
    "df['dateOfBirth'] = df['dateOfBirth'].dt.year.astype(float)\n",
    "\n",
    "column_index = df.columns.get_loc(\"isFraud\")\n",
    "df.insert(column_index, \"amount^2\", df[\"amount\"] ** 2)\n",
    "\n",
    "# Mapping gender to numbers so that we can use them in our features\n",
    "gender_map = {'M': 2.0, 'F': 1.0}\n",
    "df['gender'] = df['gender'].map(gender_map)\n",
    "\n",
    "# Turning the unixTime col into the distance_km col (unix time was wrong in og dataset)\n",
    "df['unixTime'] = df.apply(haversine_distance, axis=1)\n",
    "df.rename(columns={'unixTime': 'distance_km'}, inplace=True)\n",
    "\n",
    "# Mapping all of the cats to a number\n",
    "cat_map = {\n",
    "    'misc_net': 10,\n",
    "    'shopping_net': 9,\n",
    "    'misc_pos': 8,\n",
    "    'grocery_pos': 7,\n",
    "    'entertainment': 6,\n",
    "    'gas_transport': 5,\n",
    "    'personal_care': 4,\n",
    "    'shopping_pos': 3,\n",
    "    'food_dining': 2,\n",
    "    'home': 1,\n",
    "    'kids_pets': 1,\n",
    "    'grocery_net': 2,\n",
    "    'health_fitness': 3,\n",
    "    'travel': 4\n",
    "}\n",
    "\n",
    "# Converting transDate to give the date in unix time and then normalize the data\n",
    "df['transDate'] = pd.to_datetime(df['transDate'], format='%Y-%m-%d %H:%M')\n",
    "df['transDate'] = df['transDate'].apply(lambda x: datetime.timestamp(x))\n",
    "df['transDate'] = df['transDate'] / 1000000000\n",
    "\n",
    "# Map the categories to their numerical values\n",
    "df['category'] = df['category'].map(cat_map)\n",
    "\n",
    "# Droping the columns we used since we dont need them anymore\n",
    "df.drop(columns=['latitude', 'longitude', 'merchLatitude', 'merchLongitude'], inplace=True)\n",
    "\n",
    "# Ensuring all data types are float64\n",
    "df = df.astype(float)\n",
    "\n",
    "# Converting dataframe to csv\n",
    "df.to_csv(\"cleanedDataTrain.csv\", index=False)\n",
    "\n",
    "# Write dataFrame to a .txt file\n",
    "with open('cleanedDataTrain.txt', 'w') as f:\n",
    "    for index, row in df.iterrows():\n",
    "        f.write(\n",
    "            f\"{row['transDate']},{row['category']},{row['amount']},{row['gender']},{row['dateOfBirth']},{row['distance_km']},{row['amount^2']},{row['isFraud']}\\n\")\n"
   ]
  },
  {
   "cell_type": "code",
   "execution_count": 33,
   "id": "24d1e541-7fb5-45c8-b96d-53fb475a083f",
   "metadata": {
    "tags": [],
    "ExecuteTime": {
     "end_time": "2024-04-07T06:03:59.313767700Z",
     "start_time": "2024-04-07T06:03:59.237452600Z"
    }
   },
   "outputs": [],
   "source": [
    "# Loading data in numpy\n",
    "def load_data(filename, testing):\n",
    "    data = np.loadtxt(filename, delimiter=',', skiprows=1)\n",
    "    if testing:\n",
    "        X = data[:, :-1]\n",
    "        y = data[:, -1]\n",
    "        return X, y\n",
    "    X = data[:, :]\n",
    "\n",
    "    return X"
   ]
  },
  {
   "cell_type": "code",
   "execution_count": 34,
   "id": "8258d5ce-7c2e-457c-b941-222a4271add3",
   "metadata": {
    "tags": [],
    "ExecuteTime": {
     "end_time": "2024-04-07T06:03:59.673681100Z",
     "start_time": "2024-04-07T06:03:59.315804800Z"
    }
   },
   "outputs": [],
   "source": [
    "# Getting the features and the output var\n",
    "X_train, y_train = load_data(\"cleanedDataTrain.txt\", True)"
   ]
  },
  {
   "cell_type": "code",
   "execution_count": 35,
   "id": "4e037c18-b4d8-4fab-ad42-10bb16e8d89e",
   "metadata": {
    "tags": [],
    "ExecuteTime": {
     "end_time": "2024-04-07T06:03:59.751343Z",
     "start_time": "2024-04-07T06:03:59.674648Z"
    }
   },
   "outputs": [],
   "source": [
    "def sigmoid(z):\n",
    "    # print(\"test3\")\n",
    "    #  if isinstance(z, int) or isinstance(z, float):\n",
    "    #      return logistic_function(z)\n",
    "    # \n",
    "    #  return logistic_function(z)\n",
    "\n",
    "    #if isinstance(z, int) or isinstance(z, float):\n",
    "    # return 1 / (1 + np.exp(-z))\n",
    "\n",
    "    #return 1 / (1 + np.exp(-z))\n",
    "\n",
    "    # def sigmoid(z):\n",
    "\n",
    "    # This equation still is correct for sigmoid however helps us avoid overflow errors\n",
    "    return 0.5 * (1 + np.tanh(0.5 * z))\n"
   ]
  },
  {
   "cell_type": "code",
   "execution_count": 36,
   "id": "288ab55e-a0cf-4fb3-a716-241d57f0db9c",
   "metadata": {
    "tags": [],
    "ExecuteTime": {
     "end_time": "2024-04-07T06:03:59.828405700Z",
     "start_time": "2024-04-07T06:03:59.752845700Z"
    }
   },
   "outputs": [],
   "source": [
    "def compute_cost(X, y, w, b, *argv):\n",
    "    m, n = X.shape\n",
    "\n",
    "    total_cost = 0\n",
    "\n",
    "    for i in range(m):\n",
    "        zwb = np.dot(w, X[i]) + b\n",
    "        fwb = sigmoid(zwb)\n",
    "\n",
    "        # Clip the values of fwb to avoid log(0) or log(1) issues\n",
    "        fwb = np.clip(fwb, 1e-15, 1 - 1e-15)\n",
    "\n",
    "        loss = (-y[i] * np.log(fwb)) - ((1 - y[i]) * np.log(1 - fwb))\n",
    "        total_cost += loss\n",
    "\n",
    "    total_cost = total_cost / m\n",
    "\n",
    "    return total_cost\n"
   ]
  },
  {
   "cell_type": "code",
   "execution_count": 37,
   "id": "7d1c137c-527f-4060-b31b-5bcf039a8ff8",
   "metadata": {
    "tags": [],
    "ExecuteTime": {
     "end_time": "2024-04-07T06:03:59.905004Z",
     "start_time": "2024-04-07T06:03:59.830369100Z"
    }
   },
   "outputs": [],
   "source": [
    "# Computing gradient\n",
    "def compute_gradient(X, y, w, b, *argv):\n",
    "    m, n = X.shape\n",
    "    dj_dw = np.zeros(w.shape)\n",
    "    dj_db = 0.\n",
    "\n",
    "    for i in range(m):\n",
    "        z_wb = np.dot(X[i], w) + b\n",
    "        f_wb = sigmoid(z_wb)\n",
    "\n",
    "        dj_db += f_wb - y[i]\n",
    "\n",
    "        dj_dw += (f_wb - y[i]) * X[i]\n",
    "\n",
    "    dj_dw /= m\n",
    "    dj_db /= m\n",
    "\n",
    "    return dj_db, dj_dw"
   ]
  },
  {
   "cell_type": "code",
   "execution_count": 51,
   "id": "87eb0f5b-a2f7-4920-ba07-e3c8ded97825",
   "metadata": {
    "tags": [],
    "ExecuteTime": {
     "end_time": "2024-04-07T06:45:53.659467Z",
     "start_time": "2024-04-07T06:45:53.580219100Z"
    }
   },
   "outputs": [],
   "source": [
    "# Gradient Descent\n",
    "def gradient_descent(X, y, w_in, b_in, cost_function, gradient_function, alpha, num_iters, lambda_):\n",
    "    #  print(\"test6\")\n",
    "    m, n = X.shape\n",
    "\n",
    "    # An array to store cost J and w's at each iteration primarily for graphing later\n",
    "    J_history = []\n",
    "    w_history = []\n",
    "\n",
    "    for i in range(num_iters):\n",
    "\n",
    "        # Calculate the gradient and update the parameters\n",
    "        dj_db, dj_dw = gradient_function(X, y, w_in, b_in, lambda_)\n",
    "\n",
    "        # Update Parameters using w, b, alpha and gradient\n",
    "        w_in = w_in - alpha * dj_dw\n",
    "        b_in = b_in - alpha * dj_db\n",
    "\n",
    "        # Save cost J at each iteration\n",
    "        if i < 100000:  # prevent resource exhaustion \n",
    "            cost = cost_function(X, y, w_in, b_in, lambda_)\n",
    "            J_history.append(cost)\n",
    "\n",
    "        # Print cost every at intervals 10 times or as many iterations if < 10\n",
    "        if i % math.ceil(num_iters / 10) == 0 or i == (num_iters - 1):\n",
    "            w_history.append(w_in)\n",
    "            print(f\"Iteration {i:4}: Cost {float(J_history[-1]):8.5f}   \")\n",
    "\n",
    "    return w_in, b_in, J_history#, w_history"
   ]
  },
  {
   "cell_type": "code",
   "execution_count": 52,
   "id": "66a46313-aad5-4e5d-b235-1aa5e17aa994",
   "metadata": {
    "tags": [],
    "ExecuteTime": {
     "end_time": "2024-04-07T06:45:56.142866700Z",
     "start_time": "2024-04-07T06:45:56.067069300Z"
    }
   },
   "outputs": [],
   "source": [
    "# Predict\n",
    "def predict(X, w, b):\n",
    "    m, n = X.shape\n",
    "\n",
    "    p = np.zeros(m)\n",
    "    for i in range(m):\n",
    "        zwb = np.dot(w, X[i]) + b\n",
    "        zwb = zwb / 30780000  # Divided by sample mean (could improve this :D)\n",
    "        fwb = sigmoid(zwb)\n",
    "        p[i] = fwb <= 0.40\n",
    "\n",
    "    # Last data value not working correctly just appending default value 0 (only needed for final dataset)\n",
    "    p = np.append(p, 0)\n",
    "\n",
    "    return p"
   ]
  },
  {
   "cell_type": "code",
   "execution_count": 40,
   "outputs": [],
   "source": [
    "# Cost compute\n",
    "def compute_cost_reg(X, y, w, b, lambda_=1):\n",
    "    #print(\"test8\")\n",
    "    m, n = X.shape\n",
    "    cost_without_reg = compute_cost(X, y, w, b)\n",
    "    reg_cost = 0\n",
    "\n",
    "    zwb = np.dot(X, w) + b\n",
    "    fwb = sigmoid(zwb)\n",
    "\n",
    "    reg_cost = np.sum(w ** 2) * lambda_ / (2 * m)\n",
    "\n",
    "    total_cost = cost_without_reg + reg_cost\n",
    "\n",
    "    return total_cost"
   ],
   "metadata": {
    "collapsed": false,
    "ExecuteTime": {
     "end_time": "2024-04-07T06:04:00.136992200Z",
     "start_time": "2024-04-07T06:04:00.059736900Z"
    }
   },
   "id": "ad5a8d619faf0569"
  },
  {
   "cell_type": "code",
   "execution_count": 41,
   "outputs": [],
   "source": [
    "# Compute Gradient\n",
    "def compute_gradient_reg(X, y, w, b, lambda_=1):\n",
    "    # print(\"test9\")\n",
    "    m, n = X.shape\n",
    "\n",
    "    dj_db, dj_dw = compute_gradient(X, y, w, b)\n",
    "\n",
    "    for j in range(n):\n",
    "        dj_dw[j] = dj_dw[j] + (lambda_ / m) * w[j]\n",
    "\n",
    "    return dj_db, dj_dw"
   ],
   "metadata": {
    "collapsed": false,
    "ExecuteTime": {
     "end_time": "2024-04-07T06:04:00.227992700Z",
     "start_time": "2024-04-07T06:04:00.137992700Z"
    }
   },
   "id": "e9389f6a3172d820"
  },
  {
   "cell_type": "code",
   "execution_count": 42,
   "outputs": [
    {
     "name": "stdout",
     "output_type": "stream",
     "text": [
      "Iteration    0: Cost 31.27044   \n",
      "Iteration  100: Cost  0.25402   \n",
      "Iteration  200: Cost  2.21626   \n",
      "Iteration  300: Cost  0.25474   \n",
      "Iteration  400: Cost  0.25438   \n",
      "Iteration  500: Cost  0.25427   \n",
      "Iteration  600: Cost  0.25532   \n",
      "Iteration  700: Cost  0.25486   \n",
      "Iteration  800: Cost  0.25468   \n",
      "Iteration  900: Cost  3.37254   \n",
      "Iteration  999: Cost  0.25580   \n"
     ]
    }
   ],
   "source": [
    "# Testing (was trying to find correct lambda_ and alpha values\n",
    "np.random.seed(1)\n",
    "init_w = np.random.rand(X_train.shape[1]) - 0.5\n",
    "init_b = 1.0\n",
    "\n",
    "lambda_ = 0.01  # 0.01\n",
    "\n",
    "# Some gradient descent settings\n",
    "iterations = 1000\n",
    "alpha = 0.01  # 0.01\n",
    "w, b, J_history, w_history = gradient_descent(X_train, y_train, init_w, init_b,\n",
    "                                              compute_cost_reg, compute_gradient_reg,\n",
    "                                              alpha, iterations, lambda_)"
   ],
   "metadata": {
    "collapsed": false,
    "ExecuteTime": {
     "end_time": "2024-04-07T06:37:12.443919600Z",
     "start_time": "2024-04-07T06:04:00.215398200Z"
    }
   },
   "id": "dd716c52c313a3cc"
  },
  {
   "cell_type": "code",
   "execution_count": 43,
   "outputs": [
    {
     "name": "stdout",
     "output_type": "stream",
     "text": [
      "Train Accuracy: 97.46508929111599\n"
     ]
    }
   ],
   "source": [
    "p = predict(X_train, w, b)\n",
    "print(f\"Train Accuracy: {np.mean(p == y_train) * 100}\")"
   ],
   "metadata": {
    "collapsed": false,
    "ExecuteTime": {
     "end_time": "2024-04-07T06:37:12.954745900Z",
     "start_time": "2024-04-07T06:37:12.445914Z"
    }
   },
   "id": "687fd322a6b277bf"
  },
  {
   "cell_type": "code",
   "execution_count": 47,
   "outputs": [
    {
     "data": {
      "text/plain": "<Figure size 640x480 with 1 Axes>",
      "image/png": "[encoded data removed]"
     },
     "metadata": {},
     "output_type": "display_data"
    }
   ],
   "source": [
    "# Ploting our cost function (looks very wrong :/)\n",
    "def plot_cost_over_iterations(J_history):\n",
    "    plt.plot(range(len(J_history)), J_history, marker='o', linestyle='-')\n",
    "    plt.xlabel('Iterations')\n",
    "    plt.ylabel('Cost')\n",
    "    plt.title('Cost Function Over Iterations Train')\n",
    "    plt.show()\n",
    "\n",
    "\n",
    "# Assuming you have already called gradient_descent and obtained J_history\n",
    "plot_cost_over_iterations(J_history)\n"
   ],
   "metadata": {
    "collapsed": false,
    "ExecuteTime": {
     "end_time": "2024-04-07T06:45:27.667085400Z",
     "start_time": "2024-04-07T06:45:27.482213600Z"
    }
   },
   "id": "4890ffc767dc87b3"
  },
  {
   "cell_type": "code",
   "execution_count": null,
   "outputs": [],
   "source": [
    "# Using a class and my own model because we can auto run iters to find the best lambda and alhpa vals\n",
    "class GradientDescentWrapper(BaseEstimator):\n",
    "    def __init__(self, alpha, lambda_, num_iters):\n",
    "        self.alpha = alpha\n",
    "        self.lambda_ = lambda_\n",
    "        self.num_iters = num_iters\n",
    "\n",
    "    def fit(self, X, y):\n",
    "        self.w_, self.b_, self.J_history_ = gradient_descent(X, y, init_w, init_b, compute_cost_reg,\n",
    "                                                             compute_gradient_reg, self.alpha, self.num_iters,\n",
    "                                                             self.lambda_)\n",
    "        return self\n",
    "\n",
    "\n",
    "# Create an instance of your wrapper class\n",
    "your_model = GradientDescentWrapper(alpha=0.01, lambda_=0.01, num_iters=20)  # 1000\n"
   ],
   "metadata": {
    "collapsed": false,
    "ExecuteTime": {
     "start_time": "2024-04-07T06:44:19.925362300Z"
    }
   },
   "id": "8cb143b141fa057b"
  },
  {
   "cell_type": "code",
   "execution_count": 46,
   "outputs": [
    {
     "name": "stdout",
     "output_type": "stream",
     "text": [
      "Fitting 3 folds for each of 25 candidates, totalling 75 fits\n",
      "Iteration    0: Cost 23.65287   \n",
      "Iteration    2: Cost  0.19832   \n",
      "Iteration    4: Cost  0.19832   \n",
      "Iteration    6: Cost  0.19832   \n",
      "Iteration    8: Cost  0.76456   \n",
      "Iteration   10: Cost  0.19832   \n",
      "Iteration   12: Cost  0.19832   \n",
      "Iteration   14: Cost  0.19832   \n",
      "Iteration   16: Cost  0.19832   \n",
      "Iteration   18: Cost  0.19832   \n",
      "Iteration   19: Cost  0.19832   \n",
      "[CV] END .........................alpha=0.001, lambda_=0.001; total time=  25.9s\n",
      "Iteration    0: Cost 24.07937   \n",
      "Iteration    2: Cost  0.25901   \n",
      "Iteration    4: Cost  0.25901   \n",
      "Iteration    6: Cost  0.25901   \n",
      "Iteration    8: Cost 20.07914   \n",
      "Iteration   10: Cost  0.25901   \n",
      "Iteration   12: Cost  0.25901   \n",
      "Iteration   14: Cost  0.25901   \n",
      "Iteration   16: Cost 17.56178   \n",
      "Iteration   18: Cost  0.25901   \n",
      "Iteration   19: Cost  0.25901   \n",
      "[CV] END .........................alpha=0.001, lambda_=0.001; total time=  25.9s\n",
      "Iteration    0: Cost 24.32191   \n",
      "Iteration    2: Cost  0.30403   \n",
      "Iteration    4: Cost  0.30403   \n",
      "Iteration    6: Cost  0.30403   \n",
      "Iteration    8: Cost  0.30403   \n",
      "Iteration   10: Cost  0.30403   \n",
      "Iteration   12: Cost  0.30403   \n",
      "Iteration   14: Cost 18.77982   \n",
      "Iteration   16: Cost  0.30403   \n",
      "Iteration   18: Cost  0.30403   \n",
      "Iteration   19: Cost  0.30403   \n",
      "[CV] END .........................alpha=0.001, lambda_=0.001; total time=  26.0s\n",
      "Iteration    0: Cost 23.65287   \n",
      "Iteration    2: Cost  0.19833   \n",
      "Iteration    4: Cost  0.19832   \n",
      "Iteration    6: Cost  0.19832   \n",
      "Iteration    8: Cost  0.76456   \n",
      "Iteration   10: Cost  0.19833   \n",
      "Iteration   12: Cost  0.19832   \n",
      "Iteration   14: Cost  0.19832   \n",
      "Iteration   16: Cost  0.19833   \n",
      "Iteration   18: Cost  0.19833   \n",
      "Iteration   19: Cost  0.19832   \n",
      "[CV] END ..........................alpha=0.001, lambda_=0.01; total time=  26.7s\n",
      "Iteration    0: Cost 24.07937   \n",
      "Iteration    2: Cost  0.25902   \n",
      "Iteration    4: Cost  0.25902   \n",
      "Iteration    6: Cost  0.25901   \n",
      "Iteration    8: Cost 20.07914   \n",
      "Iteration   10: Cost  0.25902   \n",
      "Iteration   12: Cost  0.25902   \n",
      "Iteration   14: Cost  0.25901   \n",
      "Iteration   16: Cost 17.56178   \n",
      "Iteration   18: Cost  0.25902   \n",
      "Iteration   19: Cost  0.25902   \n",
      "[CV] END ..........................alpha=0.001, lambda_=0.01; total time=  26.0s\n",
      "Iteration    0: Cost 24.32191   \n",
      "Iteration    2: Cost  0.30404   \n",
      "Iteration    4: Cost  0.30403   \n",
      "Iteration    6: Cost  0.30403   \n",
      "Iteration    8: Cost  0.30405   \n",
      "Iteration   10: Cost  0.30404   \n",
      "Iteration   12: Cost  0.30403   \n",
      "Iteration   14: Cost 18.77983   \n",
      "Iteration   16: Cost  0.30404   \n",
      "Iteration   18: Cost  0.30404   \n",
      "Iteration   19: Cost  0.30403   \n",
      "[CV] END ..........................alpha=0.001, lambda_=0.01; total time=  25.9s\n",
      "Iteration    0: Cost 23.65287   \n",
      "Iteration    2: Cost  0.19843   \n",
      "Iteration    4: Cost  0.19837   \n",
      "Iteration    6: Cost  0.19833   \n",
      "Iteration    8: Cost  0.76456   \n",
      "Iteration   10: Cost  0.19839   \n",
      "Iteration   12: Cost  0.19834   \n",
      "Iteration   14: Cost  0.19832   \n",
      "Iteration   16: Cost  0.19848   \n",
      "Iteration   18: Cost  0.19841   \n",
      "Iteration   19: Cost  0.19838   \n",
      "[CV] END ...........................alpha=0.001, lambda_=0.1; total time=  25.9s\n",
      "Iteration    0: Cost 24.07937   \n",
      "Iteration    2: Cost  0.25914   \n",
      "Iteration    4: Cost  0.25906   \n",
      "Iteration    6: Cost  0.25902   \n",
      "Iteration    8: Cost 20.07915   \n",
      "Iteration   10: Cost  0.25914   \n",
      "Iteration   12: Cost  0.25906   \n",
      "Iteration   14: Cost  0.25902   \n",
      "Iteration   16: Cost 17.56179   \n",
      "Iteration   18: Cost  0.25914   \n",
      "Iteration   19: Cost  0.25910   \n",
      "[CV] END ...........................alpha=0.001, lambda_=0.1; total time=  25.9s\n",
      "Iteration    0: Cost 24.32191   \n",
      "Iteration    2: Cost  0.30414   \n",
      "Iteration    4: Cost  0.30406   \n",
      "Iteration    6: Cost  0.30403   \n",
      "Iteration    8: Cost  0.30421   \n",
      "Iteration   10: Cost  0.30410   \n",
      "Iteration   12: Cost  0.30404   \n",
      "Iteration   14: Cost 18.77983   \n",
      "Iteration   16: Cost  0.30415   \n",
      "Iteration   18: Cost  0.30407   \n",
      "Iteration   19: Cost  0.30405   \n",
      "[CV] END ...........................alpha=0.001, lambda_=0.1; total time=  26.0s\n",
      "Iteration    0: Cost 23.65288   \n",
      "Iteration    2: Cost  0.19886   \n",
      "Iteration    4: Cost  0.19856   \n",
      "Iteration    6: Cost  0.19838   \n",
      "Iteration    8: Cost  0.76457   \n",
      "Iteration   10: Cost  0.19867   \n",
      "Iteration   12: Cost  0.19844   \n",
      "Iteration   14: Cost  0.19833   \n",
      "Iteration   16: Cost  0.19913   \n",
      "Iteration   18: Cost  0.19875   \n",
      "Iteration   19: Cost  0.19861   \n",
      "[CV] END ...........................alpha=0.001, lambda_=0.5; total time=  26.0s\n",
      "Iteration    0: Cost 24.07939   \n",
      "Iteration    2: Cost  0.25964   \n",
      "Iteration    4: Cost  0.25925   \n",
      "Iteration    6: Cost  0.25905   \n",
      "Iteration    8: Cost 20.07916   \n",
      "Iteration   10: Cost  0.25966   \n",
      "Iteration   12: Cost  0.25927   \n",
      "Iteration   14: Cost  0.25906   \n",
      "Iteration   16: Cost 17.56181   \n",
      "Iteration   18: Cost  0.25968   \n",
      "Iteration   19: Cost  0.25946   \n",
      "[CV] END ...........................alpha=0.001, lambda_=0.5; total time=  26.0s\n",
      "Iteration    0: Cost 24.32193   \n",
      "Iteration    2: Cost  0.30460   \n",
      "Iteration    4: Cost  0.30419   \n",
      "Iteration    6: Cost  0.30404   \n",
      "Iteration    8: Cost  0.30492   \n",
      "Iteration   10: Cost  0.30438   \n",
      "Iteration   12: Cost  0.30409   \n",
      "Iteration   14: Cost 18.77986   \n",
      "Iteration   16: Cost  0.30463   \n",
      "Iteration   18: Cost  0.30422   \n",
      "Iteration   19: Cost  0.30411   \n",
      "[CV] END ...........................alpha=0.001, lambda_=0.5; total time=  25.9s\n",
      "Iteration    0: Cost 23.65289   \n",
      "Iteration    2: Cost  0.19940   \n",
      "Iteration    4: Cost  0.19881   \n",
      "Iteration    6: Cost  0.19845   \n",
      "Iteration    8: Cost  0.76458   \n",
      "Iteration   10: Cost  0.19902   \n",
      "Iteration   12: Cost  0.19856   \n",
      "Iteration   14: Cost  0.19835   \n",
      "Iteration   16: Cost  0.19994   \n",
      "Iteration   18: Cost  0.19918   \n",
      "Iteration   19: Cost  0.19890   \n",
      "[CV] END ...........................alpha=0.001, lambda_=1.0; total time=  25.9s\n",
      "Iteration    0: Cost 24.07941   \n",
      "Iteration    2: Cost  0.26026   \n",
      "Iteration    4: Cost  0.25949   \n",
      "Iteration    6: Cost  0.25909   \n",
      "Iteration    8: Cost 20.07919   \n",
      "Iteration   10: Cost  0.26031   \n",
      "Iteration   12: Cost  0.25953   \n",
      "Iteration   14: Cost  0.25911   \n",
      "Iteration   16: Cost 17.56184   \n",
      "Iteration   18: Cost  0.26035   \n",
      "Iteration   19: Cost  0.25991   \n",
      "[CV] END ...........................alpha=0.001, lambda_=1.0; total time=  26.0s\n",
      "Iteration    0: Cost 24.32196   \n",
      "Iteration    2: Cost  0.30516   \n",
      "Iteration    4: Cost  0.30434   \n",
      "Iteration    6: Cost  0.30405   \n",
      "Iteration    8: Cost  0.30581   \n",
      "Iteration   10: Cost  0.30472   \n",
      "Iteration   12: Cost  0.30415   \n",
      "Iteration   14: Cost 18.77991   \n",
      "Iteration   16: Cost  0.30524   \n",
      "Iteration   18: Cost  0.30440   \n",
      "Iteration   19: Cost  0.30418   \n",
      "[CV] END ...........................alpha=0.001, lambda_=1.0; total time=  26.0s\n",
      "Iteration    0: Cost 30.63781   \n",
      "Iteration    2: Cost  0.19842   \n",
      "Iteration    4: Cost  0.19837   \n",
      "Iteration    6: Cost  0.19833   \n",
      "Iteration    8: Cost  5.65000   \n",
      "Iteration   10: Cost  0.19843   \n",
      "Iteration   12: Cost  0.19837   \n",
      "Iteration   14: Cost  0.19833   \n",
      "Iteration   16: Cost  0.19832   \n",
      "Iteration   18: Cost  0.19846   \n",
      "Iteration   19: Cost  0.19842   \n",
      "[CV] END ..........................alpha=0.01, lambda_=0.001; total time=  27.5s\n",
      "Iteration    0: Cost 31.28903   \n",
      "Iteration    2: Cost  0.25913   \n",
      "Iteration    4: Cost  0.25906   \n"
     ]
    },
    {
     "ename": "KeyboardInterrupt",
     "evalue": "",
     "output_type": "error",
     "traceback": [
      "\u001B[1;31m---------------------------------------------------------------------------\u001B[0m",
      "\u001B[1;31mKeyboardInterrupt\u001B[0m                         Traceback (most recent call last)",
      "Cell \u001B[1;32mIn[46], line 9\u001B[0m\n\u001B[0;32m      6\u001B[0m \u001B[38;5;66;03m# cross-validation\u001B[39;00m\n\u001B[0;32m      7\u001B[0m grid_search \u001B[38;5;241m=\u001B[39m GridSearchCV(estimator\u001B[38;5;241m=\u001B[39myour_model, param_grid\u001B[38;5;241m=\u001B[39mparam_grid, cv\u001B[38;5;241m=\u001B[39m\u001B[38;5;241m3\u001B[39m,  \u001B[38;5;66;03m#5\u001B[39;00m\n\u001B[0;32m      8\u001B[0m                            scoring\u001B[38;5;241m=\u001B[39m\u001B[38;5;124m'\u001B[39m\u001B[38;5;124mneg_mean_squared_error\u001B[39m\u001B[38;5;124m'\u001B[39m, verbose\u001B[38;5;241m=\u001B[39m\u001B[38;5;241m2\u001B[39m)\n\u001B[1;32m----> 9\u001B[0m \u001B[43mgrid_search\u001B[49m\u001B[38;5;241;43m.\u001B[39;49m\u001B[43mfit\u001B[49m\u001B[43m(\u001B[49m\u001B[43mX_train\u001B[49m\u001B[43m,\u001B[49m\u001B[43m \u001B[49m\u001B[43my_train\u001B[49m\u001B[43m)\u001B[49m\n\u001B[0;32m     11\u001B[0m best_params \u001B[38;5;241m=\u001B[39m grid_search\u001B[38;5;241m.\u001B[39mbest_params_\n\u001B[0;32m     12\u001B[0m \u001B[38;5;28mprint\u001B[39m(\u001B[38;5;124m\"\u001B[39m\u001B[38;5;124mBest parameters:\u001B[39m\u001B[38;5;124m\"\u001B[39m, best_params)\n",
      "File \u001B[1;32m~\\AppData\\Local\\Programs\\Python\\Python39\\lib\\site-packages\\sklearn\\base.py:1474\u001B[0m, in \u001B[0;36m_fit_context.<locals>.decorator.<locals>.wrapper\u001B[1;34m(estimator, *args, **kwargs)\u001B[0m\n\u001B[0;32m   1467\u001B[0m     estimator\u001B[38;5;241m.\u001B[39m_validate_params()\n\u001B[0;32m   1469\u001B[0m \u001B[38;5;28;01mwith\u001B[39;00m config_context(\n\u001B[0;32m   1470\u001B[0m     skip_parameter_validation\u001B[38;5;241m=\u001B[39m(\n\u001B[0;32m   1471\u001B[0m         prefer_skip_nested_validation \u001B[38;5;129;01mor\u001B[39;00m global_skip_validation\n\u001B[0;32m   1472\u001B[0m     )\n\u001B[0;32m   1473\u001B[0m ):\n\u001B[1;32m-> 1474\u001B[0m     \u001B[38;5;28;01mreturn\u001B[39;00m fit_method(estimator, \u001B[38;5;241m*\u001B[39margs, \u001B[38;5;241m*\u001B[39m\u001B[38;5;241m*\u001B[39mkwargs)\n",
      "File \u001B[1;32m~\\AppData\\Local\\Programs\\Python\\Python39\\lib\\site-packages\\sklearn\\model_selection\\_search.py:970\u001B[0m, in \u001B[0;36mBaseSearchCV.fit\u001B[1;34m(self, X, y, **params)\u001B[0m\n\u001B[0;32m    964\u001B[0m     results \u001B[38;5;241m=\u001B[39m \u001B[38;5;28mself\u001B[39m\u001B[38;5;241m.\u001B[39m_format_results(\n\u001B[0;32m    965\u001B[0m         all_candidate_params, n_splits, all_out, all_more_results\n\u001B[0;32m    966\u001B[0m     )\n\u001B[0;32m    968\u001B[0m     \u001B[38;5;28;01mreturn\u001B[39;00m results\n\u001B[1;32m--> 970\u001B[0m \u001B[38;5;28;43mself\u001B[39;49m\u001B[38;5;241;43m.\u001B[39;49m\u001B[43m_run_search\u001B[49m\u001B[43m(\u001B[49m\u001B[43mevaluate_candidates\u001B[49m\u001B[43m)\u001B[49m\n\u001B[0;32m    972\u001B[0m \u001B[38;5;66;03m# multimetric is determined here because in the case of a callable\u001B[39;00m\n\u001B[0;32m    973\u001B[0m \u001B[38;5;66;03m# self.scoring the return type is only known after calling\u001B[39;00m\n\u001B[0;32m    974\u001B[0m first_test_score \u001B[38;5;241m=\u001B[39m all_out[\u001B[38;5;241m0\u001B[39m][\u001B[38;5;124m\"\u001B[39m\u001B[38;5;124mtest_scores\u001B[39m\u001B[38;5;124m\"\u001B[39m]\n",
      "File \u001B[1;32m~\\AppData\\Local\\Programs\\Python\\Python39\\lib\\site-packages\\sklearn\\model_selection\\_search.py:1527\u001B[0m, in \u001B[0;36mGridSearchCV._run_search\u001B[1;34m(self, evaluate_candidates)\u001B[0m\n\u001B[0;32m   1525\u001B[0m \u001B[38;5;28;01mdef\u001B[39;00m \u001B[38;5;21m_run_search\u001B[39m(\u001B[38;5;28mself\u001B[39m, evaluate_candidates):\n\u001B[0;32m   1526\u001B[0m \u001B[38;5;250m    \u001B[39m\u001B[38;5;124;03m\"\"\"Search all candidates in param_grid\"\"\"\u001B[39;00m\n\u001B[1;32m-> 1527\u001B[0m     \u001B[43mevaluate_candidates\u001B[49m\u001B[43m(\u001B[49m\u001B[43mParameterGrid\u001B[49m\u001B[43m(\u001B[49m\u001B[38;5;28;43mself\u001B[39;49m\u001B[38;5;241;43m.\u001B[39;49m\u001B[43mparam_grid\u001B[49m\u001B[43m)\u001B[49m\u001B[43m)\u001B[49m\n",
      "File \u001B[1;32m~\\AppData\\Local\\Programs\\Python\\Python39\\lib\\site-packages\\sklearn\\model_selection\\_search.py:916\u001B[0m, in \u001B[0;36mBaseSearchCV.fit.<locals>.evaluate_candidates\u001B[1;34m(candidate_params, cv, more_results)\u001B[0m\n\u001B[0;32m    908\u001B[0m \u001B[38;5;28;01mif\u001B[39;00m \u001B[38;5;28mself\u001B[39m\u001B[38;5;241m.\u001B[39mverbose \u001B[38;5;241m>\u001B[39m \u001B[38;5;241m0\u001B[39m:\n\u001B[0;32m    909\u001B[0m     \u001B[38;5;28mprint\u001B[39m(\n\u001B[0;32m    910\u001B[0m         \u001B[38;5;124m\"\u001B[39m\u001B[38;5;124mFitting \u001B[39m\u001B[38;5;132;01m{0}\u001B[39;00m\u001B[38;5;124m folds for each of \u001B[39m\u001B[38;5;132;01m{1}\u001B[39;00m\u001B[38;5;124m candidates,\u001B[39m\u001B[38;5;124m\"\u001B[39m\n\u001B[0;32m    911\u001B[0m         \u001B[38;5;124m\"\u001B[39m\u001B[38;5;124m totalling \u001B[39m\u001B[38;5;132;01m{2}\u001B[39;00m\u001B[38;5;124m fits\u001B[39m\u001B[38;5;124m\"\u001B[39m\u001B[38;5;241m.\u001B[39mformat(\n\u001B[0;32m    912\u001B[0m             n_splits, n_candidates, n_candidates \u001B[38;5;241m*\u001B[39m n_splits\n\u001B[0;32m    913\u001B[0m         )\n\u001B[0;32m    914\u001B[0m     )\n\u001B[1;32m--> 916\u001B[0m out \u001B[38;5;241m=\u001B[39m \u001B[43mparallel\u001B[49m\u001B[43m(\u001B[49m\n\u001B[0;32m    917\u001B[0m \u001B[43m    \u001B[49m\u001B[43mdelayed\u001B[49m\u001B[43m(\u001B[49m\u001B[43m_fit_and_score\u001B[49m\u001B[43m)\u001B[49m\u001B[43m(\u001B[49m\n\u001B[0;32m    918\u001B[0m \u001B[43m        \u001B[49m\u001B[43mclone\u001B[49m\u001B[43m(\u001B[49m\u001B[43mbase_estimator\u001B[49m\u001B[43m)\u001B[49m\u001B[43m,\u001B[49m\n\u001B[0;32m    919\u001B[0m \u001B[43m        \u001B[49m\u001B[43mX\u001B[49m\u001B[43m,\u001B[49m\n\u001B[0;32m    920\u001B[0m \u001B[43m        \u001B[49m\u001B[43my\u001B[49m\u001B[43m,\u001B[49m\n\u001B[0;32m    921\u001B[0m \u001B[43m        \u001B[49m\u001B[43mtrain\u001B[49m\u001B[38;5;241;43m=\u001B[39;49m\u001B[43mtrain\u001B[49m\u001B[43m,\u001B[49m\n\u001B[0;32m    922\u001B[0m \u001B[43m        \u001B[49m\u001B[43mtest\u001B[49m\u001B[38;5;241;43m=\u001B[39;49m\u001B[43mtest\u001B[49m\u001B[43m,\u001B[49m\n\u001B[0;32m    923\u001B[0m \u001B[43m        \u001B[49m\u001B[43mparameters\u001B[49m\u001B[38;5;241;43m=\u001B[39;49m\u001B[43mparameters\u001B[49m\u001B[43m,\u001B[49m\n\u001B[0;32m    924\u001B[0m \u001B[43m        \u001B[49m\u001B[43msplit_progress\u001B[49m\u001B[38;5;241;43m=\u001B[39;49m\u001B[43m(\u001B[49m\u001B[43msplit_idx\u001B[49m\u001B[43m,\u001B[49m\u001B[43m \u001B[49m\u001B[43mn_splits\u001B[49m\u001B[43m)\u001B[49m\u001B[43m,\u001B[49m\n\u001B[0;32m    925\u001B[0m \u001B[43m        \u001B[49m\u001B[43mcandidate_progress\u001B[49m\u001B[38;5;241;43m=\u001B[39;49m\u001B[43m(\u001B[49m\u001B[43mcand_idx\u001B[49m\u001B[43m,\u001B[49m\u001B[43m \u001B[49m\u001B[43mn_candidates\u001B[49m\u001B[43m)\u001B[49m\u001B[43m,\u001B[49m\n\u001B[0;32m    926\u001B[0m \u001B[43m        \u001B[49m\u001B[38;5;241;43m*\u001B[39;49m\u001B[38;5;241;43m*\u001B[39;49m\u001B[43mfit_and_score_kwargs\u001B[49m\u001B[43m,\u001B[49m\n\u001B[0;32m    927\u001B[0m \u001B[43m    \u001B[49m\u001B[43m)\u001B[49m\n\u001B[0;32m    928\u001B[0m \u001B[43m    \u001B[49m\u001B[38;5;28;43;01mfor\u001B[39;49;00m\u001B[43m \u001B[49m\u001B[43m(\u001B[49m\u001B[43mcand_idx\u001B[49m\u001B[43m,\u001B[49m\u001B[43m \u001B[49m\u001B[43mparameters\u001B[49m\u001B[43m)\u001B[49m\u001B[43m,\u001B[49m\u001B[43m \u001B[49m\u001B[43m(\u001B[49m\u001B[43msplit_idx\u001B[49m\u001B[43m,\u001B[49m\u001B[43m \u001B[49m\u001B[43m(\u001B[49m\u001B[43mtrain\u001B[49m\u001B[43m,\u001B[49m\u001B[43m \u001B[49m\u001B[43mtest\u001B[49m\u001B[43m)\u001B[49m\u001B[43m)\u001B[49m\u001B[43m \u001B[49m\u001B[38;5;129;43;01min\u001B[39;49;00m\u001B[43m \u001B[49m\u001B[43mproduct\u001B[49m\u001B[43m(\u001B[49m\n\u001B[0;32m    929\u001B[0m \u001B[43m        \u001B[49m\u001B[38;5;28;43menumerate\u001B[39;49m\u001B[43m(\u001B[49m\u001B[43mcandidate_params\u001B[49m\u001B[43m)\u001B[49m\u001B[43m,\u001B[49m\n\u001B[0;32m    930\u001B[0m \u001B[43m        \u001B[49m\u001B[38;5;28;43menumerate\u001B[39;49m\u001B[43m(\u001B[49m\u001B[43mcv\u001B[49m\u001B[38;5;241;43m.\u001B[39;49m\u001B[43msplit\u001B[49m\u001B[43m(\u001B[49m\u001B[43mX\u001B[49m\u001B[43m,\u001B[49m\u001B[43m \u001B[49m\u001B[43my\u001B[49m\u001B[43m,\u001B[49m\u001B[43m \u001B[49m\u001B[38;5;241;43m*\u001B[39;49m\u001B[38;5;241;43m*\u001B[39;49m\u001B[43mrouted_params\u001B[49m\u001B[38;5;241;43m.\u001B[39;49m\u001B[43msplitter\u001B[49m\u001B[38;5;241;43m.\u001B[39;49m\u001B[43msplit\u001B[49m\u001B[43m)\u001B[49m\u001B[43m)\u001B[49m\u001B[43m,\u001B[49m\n\u001B[0;32m    931\u001B[0m \u001B[43m    \u001B[49m\u001B[43m)\u001B[49m\n\u001B[0;32m    932\u001B[0m \u001B[43m\u001B[49m\u001B[43m)\u001B[49m\n\u001B[0;32m    934\u001B[0m \u001B[38;5;28;01mif\u001B[39;00m \u001B[38;5;28mlen\u001B[39m(out) \u001B[38;5;241m<\u001B[39m \u001B[38;5;241m1\u001B[39m:\n\u001B[0;32m    935\u001B[0m     \u001B[38;5;28;01mraise\u001B[39;00m \u001B[38;5;167;01mValueError\u001B[39;00m(\n\u001B[0;32m    936\u001B[0m         \u001B[38;5;124m\"\u001B[39m\u001B[38;5;124mNo fits were performed. \u001B[39m\u001B[38;5;124m\"\u001B[39m\n\u001B[0;32m    937\u001B[0m         \u001B[38;5;124m\"\u001B[39m\u001B[38;5;124mWas the CV iterator empty? \u001B[39m\u001B[38;5;124m\"\u001B[39m\n\u001B[0;32m    938\u001B[0m         \u001B[38;5;124m\"\u001B[39m\u001B[38;5;124mWere there no candidates?\u001B[39m\u001B[38;5;124m\"\u001B[39m\n\u001B[0;32m    939\u001B[0m     )\n",
      "File \u001B[1;32m~\\AppData\\Local\\Programs\\Python\\Python39\\lib\\site-packages\\sklearn\\utils\\parallel.py:67\u001B[0m, in \u001B[0;36mParallel.__call__\u001B[1;34m(self, iterable)\u001B[0m\n\u001B[0;32m     62\u001B[0m config \u001B[38;5;241m=\u001B[39m get_config()\n\u001B[0;32m     63\u001B[0m iterable_with_config \u001B[38;5;241m=\u001B[39m (\n\u001B[0;32m     64\u001B[0m     (_with_config(delayed_func, config), args, kwargs)\n\u001B[0;32m     65\u001B[0m     \u001B[38;5;28;01mfor\u001B[39;00m delayed_func, args, kwargs \u001B[38;5;129;01min\u001B[39;00m iterable\n\u001B[0;32m     66\u001B[0m )\n\u001B[1;32m---> 67\u001B[0m \u001B[38;5;28;01mreturn\u001B[39;00m \u001B[38;5;28;43msuper\u001B[39;49m\u001B[43m(\u001B[49m\u001B[43m)\u001B[49m\u001B[38;5;241;43m.\u001B[39;49m\u001B[38;5;21;43m__call__\u001B[39;49m\u001B[43m(\u001B[49m\u001B[43miterable_with_config\u001B[49m\u001B[43m)\u001B[49m\n",
      "File \u001B[1;32m~\\AppData\\Local\\Programs\\Python\\Python39\\lib\\site-packages\\joblib\\parallel.py:1863\u001B[0m, in \u001B[0;36mParallel.__call__\u001B[1;34m(self, iterable)\u001B[0m\n\u001B[0;32m   1861\u001B[0m     output \u001B[38;5;241m=\u001B[39m \u001B[38;5;28mself\u001B[39m\u001B[38;5;241m.\u001B[39m_get_sequential_output(iterable)\n\u001B[0;32m   1862\u001B[0m     \u001B[38;5;28mnext\u001B[39m(output)\n\u001B[1;32m-> 1863\u001B[0m     \u001B[38;5;28;01mreturn\u001B[39;00m output \u001B[38;5;28;01mif\u001B[39;00m \u001B[38;5;28mself\u001B[39m\u001B[38;5;241m.\u001B[39mreturn_generator \u001B[38;5;28;01melse\u001B[39;00m \u001B[38;5;28;43mlist\u001B[39;49m\u001B[43m(\u001B[49m\u001B[43moutput\u001B[49m\u001B[43m)\u001B[49m\n\u001B[0;32m   1865\u001B[0m \u001B[38;5;66;03m# Let's create an ID that uniquely identifies the current call. If the\u001B[39;00m\n\u001B[0;32m   1866\u001B[0m \u001B[38;5;66;03m# call is interrupted early and that the same instance is immediately\u001B[39;00m\n\u001B[0;32m   1867\u001B[0m \u001B[38;5;66;03m# re-used, this id will be used to prevent workers that were\u001B[39;00m\n\u001B[0;32m   1868\u001B[0m \u001B[38;5;66;03m# concurrently finalizing a task from the previous call to run the\u001B[39;00m\n\u001B[0;32m   1869\u001B[0m \u001B[38;5;66;03m# callback.\u001B[39;00m\n\u001B[0;32m   1870\u001B[0m \u001B[38;5;28;01mwith\u001B[39;00m \u001B[38;5;28mself\u001B[39m\u001B[38;5;241m.\u001B[39m_lock:\n",
      "File \u001B[1;32m~\\AppData\\Local\\Programs\\Python\\Python39\\lib\\site-packages\\joblib\\parallel.py:1792\u001B[0m, in \u001B[0;36mParallel._get_sequential_output\u001B[1;34m(self, iterable)\u001B[0m\n\u001B[0;32m   1790\u001B[0m \u001B[38;5;28mself\u001B[39m\u001B[38;5;241m.\u001B[39mn_dispatched_batches \u001B[38;5;241m+\u001B[39m\u001B[38;5;241m=\u001B[39m \u001B[38;5;241m1\u001B[39m\n\u001B[0;32m   1791\u001B[0m \u001B[38;5;28mself\u001B[39m\u001B[38;5;241m.\u001B[39mn_dispatched_tasks \u001B[38;5;241m+\u001B[39m\u001B[38;5;241m=\u001B[39m \u001B[38;5;241m1\u001B[39m\n\u001B[1;32m-> 1792\u001B[0m res \u001B[38;5;241m=\u001B[39m func(\u001B[38;5;241m*\u001B[39margs, \u001B[38;5;241m*\u001B[39m\u001B[38;5;241m*\u001B[39mkwargs)\n\u001B[0;32m   1793\u001B[0m \u001B[38;5;28mself\u001B[39m\u001B[38;5;241m.\u001B[39mn_completed_tasks \u001B[38;5;241m+\u001B[39m\u001B[38;5;241m=\u001B[39m \u001B[38;5;241m1\u001B[39m\n\u001B[0;32m   1794\u001B[0m \u001B[38;5;28mself\u001B[39m\u001B[38;5;241m.\u001B[39mprint_progress()\n",
      "File \u001B[1;32m~\\AppData\\Local\\Programs\\Python\\Python39\\lib\\site-packages\\sklearn\\utils\\parallel.py:129\u001B[0m, in \u001B[0;36m_FuncWrapper.__call__\u001B[1;34m(self, *args, **kwargs)\u001B[0m\n\u001B[0;32m    127\u001B[0m     config \u001B[38;5;241m=\u001B[39m {}\n\u001B[0;32m    128\u001B[0m \u001B[38;5;28;01mwith\u001B[39;00m config_context(\u001B[38;5;241m*\u001B[39m\u001B[38;5;241m*\u001B[39mconfig):\n\u001B[1;32m--> 129\u001B[0m     \u001B[38;5;28;01mreturn\u001B[39;00m \u001B[38;5;28mself\u001B[39m\u001B[38;5;241m.\u001B[39mfunction(\u001B[38;5;241m*\u001B[39margs, \u001B[38;5;241m*\u001B[39m\u001B[38;5;241m*\u001B[39mkwargs)\n",
      "File \u001B[1;32m~\\AppData\\Local\\Programs\\Python\\Python39\\lib\\site-packages\\sklearn\\model_selection\\_validation.py:895\u001B[0m, in \u001B[0;36m_fit_and_score\u001B[1;34m(estimator, X, y, scorer, train, test, verbose, parameters, fit_params, score_params, return_train_score, return_parameters, return_n_test_samples, return_times, return_estimator, split_progress, candidate_progress, error_score)\u001B[0m\n\u001B[0;32m    893\u001B[0m         estimator\u001B[38;5;241m.\u001B[39mfit(X_train, \u001B[38;5;241m*\u001B[39m\u001B[38;5;241m*\u001B[39mfit_params)\n\u001B[0;32m    894\u001B[0m     \u001B[38;5;28;01melse\u001B[39;00m:\n\u001B[1;32m--> 895\u001B[0m         estimator\u001B[38;5;241m.\u001B[39mfit(X_train, y_train, \u001B[38;5;241m*\u001B[39m\u001B[38;5;241m*\u001B[39mfit_params)\n\u001B[0;32m    897\u001B[0m \u001B[38;5;28;01mexcept\u001B[39;00m \u001B[38;5;167;01mException\u001B[39;00m:\n\u001B[0;32m    898\u001B[0m     \u001B[38;5;66;03m# Note fit time as time until error\u001B[39;00m\n\u001B[0;32m    899\u001B[0m     fit_time \u001B[38;5;241m=\u001B[39m time\u001B[38;5;241m.\u001B[39mtime() \u001B[38;5;241m-\u001B[39m start_time\n",
      "Cell \u001B[1;32mIn[45], line 9\u001B[0m, in \u001B[0;36mGradientDescentWrapper.fit\u001B[1;34m(self, X, y)\u001B[0m\n\u001B[0;32m      8\u001B[0m \u001B[38;5;28;01mdef\u001B[39;00m \u001B[38;5;21mfit\u001B[39m(\u001B[38;5;28mself\u001B[39m, X, y):\n\u001B[1;32m----> 9\u001B[0m     \u001B[38;5;28mself\u001B[39m\u001B[38;5;241m.\u001B[39mw_, \u001B[38;5;28mself\u001B[39m\u001B[38;5;241m.\u001B[39mb_, \u001B[38;5;28mself\u001B[39m\u001B[38;5;241m.\u001B[39mJ_history_ \u001B[38;5;241m=\u001B[39m \u001B[43mgradient_descent\u001B[49m\u001B[43m(\u001B[49m\u001B[43mX\u001B[49m\u001B[43m,\u001B[49m\u001B[43m \u001B[49m\u001B[43my\u001B[49m\u001B[43m,\u001B[49m\u001B[43m \u001B[49m\u001B[43minit_w\u001B[49m\u001B[43m,\u001B[49m\u001B[43m \u001B[49m\u001B[43minit_b\u001B[49m\u001B[43m,\u001B[49m\u001B[43m \u001B[49m\u001B[43mcompute_cost_reg\u001B[49m\u001B[43m,\u001B[49m\n\u001B[0;32m     10\u001B[0m \u001B[43m                                                         \u001B[49m\u001B[43mcompute_gradient_reg\u001B[49m\u001B[43m,\u001B[49m\u001B[43m \u001B[49m\u001B[38;5;28;43mself\u001B[39;49m\u001B[38;5;241;43m.\u001B[39;49m\u001B[43malpha\u001B[49m\u001B[43m,\u001B[49m\u001B[43m \u001B[49m\u001B[38;5;28;43mself\u001B[39;49m\u001B[38;5;241;43m.\u001B[39;49m\u001B[43mnum_iters\u001B[49m\u001B[43m,\u001B[49m\n\u001B[0;32m     11\u001B[0m \u001B[43m                                                         \u001B[49m\u001B[38;5;28;43mself\u001B[39;49m\u001B[38;5;241;43m.\u001B[39;49m\u001B[43mlambda_\u001B[49m\u001B[43m)\u001B[49m\n\u001B[0;32m     12\u001B[0m     \u001B[38;5;28;01mreturn\u001B[39;00m \u001B[38;5;28mself\u001B[39m\n",
      "Cell \u001B[1;32mIn[38], line 13\u001B[0m, in \u001B[0;36mgradient_descent\u001B[1;34m(X, y, w_in, b_in, cost_function, gradient_function, alpha, num_iters, lambda_)\u001B[0m\n\u001B[0;32m      8\u001B[0m w_history \u001B[38;5;241m=\u001B[39m []\n\u001B[0;32m     10\u001B[0m \u001B[38;5;28;01mfor\u001B[39;00m i \u001B[38;5;129;01min\u001B[39;00m \u001B[38;5;28mrange\u001B[39m(num_iters):\n\u001B[0;32m     11\u001B[0m \n\u001B[0;32m     12\u001B[0m     \u001B[38;5;66;03m# Calculate the gradient and update the parameters\u001B[39;00m\n\u001B[1;32m---> 13\u001B[0m     dj_db, dj_dw \u001B[38;5;241m=\u001B[39m \u001B[43mgradient_function\u001B[49m\u001B[43m(\u001B[49m\u001B[43mX\u001B[49m\u001B[43m,\u001B[49m\u001B[43m \u001B[49m\u001B[43my\u001B[49m\u001B[43m,\u001B[49m\u001B[43m \u001B[49m\u001B[43mw_in\u001B[49m\u001B[43m,\u001B[49m\u001B[43m \u001B[49m\u001B[43mb_in\u001B[49m\u001B[43m,\u001B[49m\u001B[43m \u001B[49m\u001B[43mlambda_\u001B[49m\u001B[43m)\u001B[49m\n\u001B[0;32m     15\u001B[0m     \u001B[38;5;66;03m# Update Parameters using w, b, alpha and gradient\u001B[39;00m\n\u001B[0;32m     16\u001B[0m     w_in \u001B[38;5;241m=\u001B[39m w_in \u001B[38;5;241m-\u001B[39m alpha \u001B[38;5;241m*\u001B[39m dj_dw\n",
      "Cell \u001B[1;32mIn[41], line 6\u001B[0m, in \u001B[0;36mcompute_gradient_reg\u001B[1;34m(X, y, w, b, lambda_)\u001B[0m\n\u001B[0;32m      2\u001B[0m \u001B[38;5;28;01mdef\u001B[39;00m \u001B[38;5;21mcompute_gradient_reg\u001B[39m(X, y, w, b, lambda_\u001B[38;5;241m=\u001B[39m\u001B[38;5;241m1\u001B[39m):\n\u001B[0;32m      3\u001B[0m     \u001B[38;5;66;03m# print(\"test9\")\u001B[39;00m\n\u001B[0;32m      4\u001B[0m     m, n \u001B[38;5;241m=\u001B[39m X\u001B[38;5;241m.\u001B[39mshape\n\u001B[1;32m----> 6\u001B[0m     dj_db, dj_dw \u001B[38;5;241m=\u001B[39m \u001B[43mcompute_gradient\u001B[49m\u001B[43m(\u001B[49m\u001B[43mX\u001B[49m\u001B[43m,\u001B[49m\u001B[43m \u001B[49m\u001B[43my\u001B[49m\u001B[43m,\u001B[49m\u001B[43m \u001B[49m\u001B[43mw\u001B[49m\u001B[43m,\u001B[49m\u001B[43m \u001B[49m\u001B[43mb\u001B[49m\u001B[43m)\u001B[49m\n\u001B[0;32m      8\u001B[0m     \u001B[38;5;28;01mfor\u001B[39;00m j \u001B[38;5;129;01min\u001B[39;00m \u001B[38;5;28mrange\u001B[39m(n):\n\u001B[0;32m      9\u001B[0m         dj_dw[j] \u001B[38;5;241m=\u001B[39m dj_dw[j] \u001B[38;5;241m+\u001B[39m (lambda_ \u001B[38;5;241m/\u001B[39m m) \u001B[38;5;241m*\u001B[39m w[j]\n",
      "Cell \u001B[1;32mIn[37], line 8\u001B[0m, in \u001B[0;36mcompute_gradient\u001B[1;34m(X, y, w, b, *argv)\u001B[0m\n\u001B[0;32m      5\u001B[0m dj_db \u001B[38;5;241m=\u001B[39m \u001B[38;5;241m0.\u001B[39m\n\u001B[0;32m      7\u001B[0m \u001B[38;5;28;01mfor\u001B[39;00m i \u001B[38;5;129;01min\u001B[39;00m \u001B[38;5;28mrange\u001B[39m(m):\n\u001B[1;32m----> 8\u001B[0m     z_wb \u001B[38;5;241m=\u001B[39m \u001B[43mnp\u001B[49m\u001B[38;5;241;43m.\u001B[39;49m\u001B[43mdot\u001B[49m\u001B[43m(\u001B[49m\u001B[43mX\u001B[49m\u001B[43m[\u001B[49m\u001B[43mi\u001B[49m\u001B[43m]\u001B[49m\u001B[43m,\u001B[49m\u001B[43m \u001B[49m\u001B[43mw\u001B[49m\u001B[43m)\u001B[49m \u001B[38;5;241m+\u001B[39m b\n\u001B[0;32m      9\u001B[0m     f_wb \u001B[38;5;241m=\u001B[39m sigmoid(z_wb)\n\u001B[0;32m     11\u001B[0m     dj_db \u001B[38;5;241m+\u001B[39m\u001B[38;5;241m=\u001B[39m f_wb \u001B[38;5;241m-\u001B[39m y[i]\n",
      "\u001B[1;31mKeyboardInterrupt\u001B[0m: "
     ]
    }
   ],
   "source": [
    "param_grid = {\n",
    "    'alpha': [0.001, 0.01, 0.05, 0.1, 0.5],  # Range of values for alpha\n",
    "    'lambda_': [0.001, 0.01, 0.1, 0.5, 1.0]  # Range of values for lambda\n",
    "}\n",
    "\n",
    "# cross-validation\n",
    "grid_search = GridSearchCV(estimator=your_model, param_grid=param_grid, cv=3,  #5\n",
    "                           scoring='neg_mean_squared_error', verbose=2)\n",
    "grid_search.fit(X_train, y_train)\n",
    "\n",
    "best_params = grid_search.best_params_\n",
    "print(\"Best parameters:\", best_params)"
   ],
   "metadata": {
    "collapsed": false,
    "ExecuteTime": {
     "end_time": "2024-04-07T06:44:19.915861500Z",
     "start_time": "2024-04-07T06:37:13.285769700Z"
    }
   },
   "id": "56ef923165d1d25a"
  },
  {
   "cell_type": "markdown",
   "source": [],
   "metadata": {
    "collapsed": false
   },
   "id": "debd7ea9687aea53"
  },
  {
   "cell_type": "code",
   "execution_count": 48,
   "outputs": [],
   "source": [
    "# Opening up the actual test dataset (renamed)\n",
    "# doing same thing as df1 (see comments there)\n",
    "df2 = pd.read_csv(\"team_9_og.csv\")\n",
    "df2.dropna(inplace=True)\n",
    "df2.drop(\n",
    "    columns=[\"firstName\", \"lastName\", \"street\", \"zip\", \"job\", \"cityPop\", \"transNum\", \"city\", \"state\", \"creditCardNum\",\n",
    "             \"business\"], inplace=True)\n",
    "df2['dateOfBirth'] = pd.to_datetime(df['dateOfBirth'])\n",
    "df2['dateOfBirth'] = df2['dateOfBirth'].dt.year.astype(float)\n",
    "\n",
    "df2[\"amount^2\"] = df[\"amount\"] ** 2\n",
    "\n",
    "gender_map = {'M': 2.0, 'F': 1.0}\n",
    "df2['gender'] = df2['gender'].map(gender_map)\n",
    "\n",
    "df2['unixTime'] = df2.apply(haversine_distance, axis=1)\n",
    "df2.rename(columns={'unixTime': 'distance_km'}, inplace=True)\n",
    "\n",
    "cat_map = {\n",
    "    'misc_net': 10,\n",
    "    'shopping_net': 9,\n",
    "    'misc_pos': 8,\n",
    "    'grocery_pos': 7,\n",
    "    'entertainment': 6,\n",
    "    'gas_transport': 5,\n",
    "    'personal_care': 4,\n",
    "    'shopping_pos': 3,\n",
    "    'food_dining': 2,\n",
    "    'home': 1,\n",
    "    'kids_pets': 1,\n",
    "    'grocery_net': 2,\n",
    "    'health_fitness': 3,\n",
    "    'travel': 4\n",
    "}\n",
    "\n",
    "df2['transDate'] = pd.to_datetime(df2['transDate'], format='%Y-%m-%d %H:%M')\n",
    "df2['transDate'] = df2['transDate'].apply(lambda x: datetime.timestamp(x))\n",
    "df2['transDate'] = df2['transDate'] / 1000000000\n",
    "\n",
    "df2['category'] = df2['category'].map(cat_map)\n",
    "\n",
    "df2.drop(columns=['latitude', 'longitude', 'merchLatitude', 'merchLongitude'], inplace=True)\n",
    "\n",
    "df2 = df2.astype(float)\n",
    "\n",
    "# Sending cleaned df to a csv file\n",
    "df2.to_csv(\"team_9_cleaned.csv\", index=False)\n",
    "\n",
    "# Write df to a .txt file\n",
    "with open('team_9.txt', 'w') as f:\n",
    "    for index, row in df2.iterrows():\n",
    "        f.write(\n",
    "            f\"{row['transDate']},{row['category']},{row['amount']},{row['gender']},{row['dateOfBirth']},{row['distance_km']},{row['amount^2']}\\n\")\n",
    "\n",
    "#df2.head"
   ],
   "metadata": {
    "collapsed": false,
    "ExecuteTime": {
     "end_time": "2024-04-07T06:45:34.735108800Z",
     "start_time": "2024-04-07T06:45:34.481298200Z"
    }
   },
   "id": "388ce05011bb2dd4"
  },
  {
   "cell_type": "code",
   "execution_count": 53,
   "outputs": [],
   "source": [
    "# Loading data test file & getting the np array of the predictions\n",
    "X_test = load_data(\"team_9.txt\", False)\n",
    "ans = predict(X_test, w, b)\n",
    "\n"
   ],
   "metadata": {
    "collapsed": false,
    "ExecuteTime": {
     "end_time": "2024-04-07T06:45:59.520635300Z",
     "start_time": "2024-04-07T06:45:59.440907700Z"
    }
   },
   "id": "5228576deaddb4f2"
  },
  {
   "cell_type": "code",
   "execution_count": 54,
   "outputs": [],
   "source": [
    "# New df that copies the original data and adds a isFraud col with values returned.\n",
    "df3 = pd.read_csv(\"team_9_og.csv\")\n",
    "df3[\"isFraud\"] = ans\n",
    "df3.to_csv(\"team_9.csv\", index=False)"
   ],
   "metadata": {
    "collapsed": false,
    "ExecuteTime": {
     "end_time": "2024-04-07T06:46:00.299944500Z",
     "start_time": "2024-04-07T06:46:00.169468500Z"
    }
   },
   "id": "7bcd064e64260d6c"
  },
  {
   "cell_type": "code",
   "execution_count": null,
   "outputs": [],
   "source": [],
   "metadata": {
    "collapsed": false
   },
   "id": "ef47870d38293b5b"
  }
 ],
 "metadata": {
  "kernelspec": {
   "display_name": "Python 3 (ipykernel)",
   "language": "python",
   "name": "python3"
  },
  "language_info": {
   "codemirror_mode": {
    "name": "ipython",
    "version": 3
   },
   "file_extension": ".py",
   "mimetype": "text/x-python",
   "name": "python",
   "nbconvert_exporter": "python",
   "pygments_lexer": "ipython3",
   "version": "3.11.5"
  }
 },
 "nbformat": 4,
 "nbformat_minor": 5
}
